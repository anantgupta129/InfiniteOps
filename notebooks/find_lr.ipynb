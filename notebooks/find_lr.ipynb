{
 "cells": [
  {
   "cell_type": "code",
   "execution_count": 2,
   "metadata": {},
   "outputs": [
    {
     "name": "stdout",
     "output_type": "stream",
     "text": [
      "/home/ubuntu/capstone/training_baseline/notebooks\n",
      "/home/ubuntu/capstone/training_baseline\n"
     ]
    }
   ],
   "source": [
    "!pwd\n",
    "%cd .."
   ]
  },
  {
   "cell_type": "code",
   "execution_count": 3,
   "metadata": {},
   "outputs": [],
   "source": [
    "import timm\n",
    "import torch\n",
    "\n",
    "from pytorch_lightning import Callback, LightningDataModule, LightningModule, Trainer\n",
    "\n",
    "from src.models.timm_module import LitModule\n",
    "from src.datamodules.intelimage_datamodule import IntelImgClfDataModule"
   ]
  },
  {
   "cell_type": "code",
   "execution_count": 4,
   "metadata": {},
   "outputs": [],
   "source": [
    "class MyModel(LitModule):\n",
    "    def __init__(\n",
    "        self,\n",
    "        model_name: str,\n",
    "        learning_rate: float,\n",
    "        num_classes: int = 10,\n",
    "    ):\n",
    "        net = timm.create_model(model_name, num_classes=num_classes, pretrained=True)\n",
    "        super().__init__(net, None, None)\n",
    "        self.lr = learning_rate\n",
    "        \n",
    "    def configure_optimizers(self) -> dict:\n",
    "        optimizer = torch.optim.Adam(self.parameters(), self.lr)\n",
    "        return {\"optimizer\": optimizer}"
   ]
  },
  {
   "cell_type": "code",
   "execution_count": 5,
   "metadata": {},
   "outputs": [
    {
     "name": "stderr",
     "output_type": "stream",
     "text": [
      "/opt/conda/envs/pytorch/lib/python3.9/site-packages/pytorch_lightning/utilities/parsing.py:262: UserWarning: Attribute 'net' is an instance of `nn.Module` and is already saved during checkpointing. It is recommended to ignore them using `self.save_hyperparameters(ignore=['net'])`.\n",
      "  rank_zero_warn(\n"
     ]
    }
   ],
   "source": [
    "model = MyModel(\"resnet50d\", 0.01, 6)"
   ]
  },
  {
   "cell_type": "code",
   "execution_count": 15,
   "metadata": {},
   "outputs": [
    {
     "name": "stdout",
     "output_type": "stream",
     "text": [
      ":: Skipping dataset exists\n"
     ]
    }
   ],
   "source": [
    "datamodule = IntelImgClfDataModule(root_data_dir=\"data\", batch_size=32, num_workers=8, pin_memory=False)\n",
    "datamodule.prepare_data()\n",
    "datamodule.setup()"
   ]
  },
  {
   "attachments": {},
   "cell_type": "markdown",
   "metadata": {},
   "source": [
    "# ResNet50"
   ]
  },
  {
   "cell_type": "code",
   "execution_count": 18,
   "metadata": {},
   "outputs": [
    {
     "name": "stderr",
     "output_type": "stream",
     "text": [
      "GPU available: True (cuda), used: True\n",
      "TPU available: False, using: 0 TPU cores\n",
      "IPU available: False, using: 0 IPUs\n",
      "HPU available: False, using: 0 HPUs\n",
      "Missing logger folder: /home/ubuntu/capstone/training_baseline/lightning_logs\n"
     ]
    },
    {
     "name": "stdout",
     "output_type": "stream",
     "text": [
      ":: Skipping dataset exists\n"
     ]
    },
    {
     "name": "stderr",
     "output_type": "stream",
     "text": [
      "LOCAL_RANK: 0 - CUDA_VISIBLE_DEVICES: [0]\n"
     ]
    },
    {
     "data": {
      "application/json": {
       "ascii": false,
       "bar_format": null,
       "colour": null,
       "elapsed": 0.010986804962158203,
       "initial": 0,
       "n": 0,
       "ncols": null,
       "nrows": null,
       "postfix": null,
       "prefix": "Finding best initial lr",
       "rate": null,
       "total": 100,
       "unit": "it",
       "unit_divisor": 1000,
       "unit_scale": false
      },
      "application/vnd.jupyter.widget-view+json": {
       "model_id": "4f9d936787b645dfbeff2354a0189a2b",
       "version_major": 2,
       "version_minor": 0
      },
      "text/plain": [
       "Finding best initial lr:   0%|          | 0/100 [00:00<?, ?it/s]"
      ]
     },
     "metadata": {},
     "output_type": "display_data"
    },
    {
     "name": "stderr",
     "output_type": "stream",
     "text": [
      "`Trainer.fit` stopped: `max_steps=100` reached.\n",
      "Restoring states from the checkpoint path at /home/ubuntu/capstone/training_baseline/.lr_find_b640411c-6196-4421-a995-d31830e5bed1.ckpt\n",
      "Restored all states from the checkpoint file at /home/ubuntu/capstone/training_baseline/.lr_find_b640411c-6196-4421-a995-d31830e5bed1.ckpt\n"
     ]
    }
   ],
   "source": [
    "trainer = Trainer(auto_lr_find=True, max_epochs=5, accelerator='gpu')\n",
    "lr_finder = trainer.tuner.lr_find(model, datamodule)"
   ]
  },
  {
   "cell_type": "code",
   "execution_count": 19,
   "metadata": {},
   "outputs": [
    {
     "data": {
      "text/plain": [
       "{'lr': [1e-08,\n",
       "  1.4454397707459274e-08,\n",
       "  1.7378008287493753e-08,\n",
       "  2.0892961308540398e-08,\n",
       "  2.51188643150958e-08,\n",
       "  3.019951720402016e-08,\n",
       "  3.630780547701014e-08,\n",
       "  4.36515832240166e-08,\n",
       "  5.248074602497726e-08,\n",
       "  6.309573444801934e-08,\n",
       "  7.585775750291837e-08,\n",
       "  9.120108393559096e-08,\n",
       "  1.0964781961431852e-07,\n",
       "  1.3182567385564074e-07,\n",
       "  1.5848931924611133e-07,\n",
       "  1.9054607179632475e-07,\n",
       "  2.2908676527677735e-07,\n",
       "  2.7542287033381663e-07,\n",
       "  3.311311214825911e-07,\n",
       "  3.9810717055349735e-07,\n",
       "  4.786300923226383e-07,\n",
       "  5.75439937337157e-07,\n",
       "  6.918309709189366e-07,\n",
       "  8.317637711026709e-07,\n",
       "  1e-06,\n",
       "  1.2022644346174132e-06,\n",
       "  1.445439770745928e-06,\n",
       "  1.7378008287493761e-06,\n",
       "  2.089296130854039e-06,\n",
       "  2.5118864315095797e-06,\n",
       "  3.0199517204020163e-06,\n",
       "  3.630780547701014e-06,\n",
       "  4.365158322401661e-06,\n",
       "  5.248074602497728e-06,\n",
       "  6.3095734448019305e-06,\n",
       "  7.585775750291836e-06,\n",
       "  9.120108393559096e-06,\n",
       "  1.0964781961431852e-05,\n",
       "  1.3182567385564076e-05,\n",
       "  1.584893192461114e-05,\n",
       "  1.9054607179632464e-05,\n",
       "  2.2908676527677725e-05,\n",
       "  2.7542287033381663e-05,\n",
       "  3.311311214825911e-05,\n",
       "  3.9810717055349735e-05,\n",
       "  4.786300923226385e-05,\n",
       "  5.7543993733715664e-05,\n",
       "  6.918309709189363e-05,\n",
       "  8.317637711026709e-05,\n",
       "  0.0001,\n",
       "  0.00012022644346174131,\n",
       "  0.0001445439770745928,\n",
       "  0.00017378008287493763,\n",
       "  0.0002089296130854041,\n",
       "  0.0002511886431509582,\n",
       "  0.0003019951720402019,\n",
       "  0.000363078054770101,\n",
       "  0.0004365158322401656,\n",
       "  0.0005248074602497723,\n",
       "  0.000630957344480193,\n",
       "  0.0007585775750291836,\n",
       "  0.0009120108393559097,\n",
       "  0.0010964781961431851,\n",
       "  0.0013182567385564075,\n",
       "  0.001584893192461114,\n",
       "  0.0019054607179632484,\n",
       "  0.0022908676527677745,\n",
       "  0.002754228703338169,\n",
       "  0.003311311214825908,\n",
       "  0.003981071705534969,\n",
       "  0.00478630092322638,\n",
       "  0.005754399373371567,\n",
       "  0.006918309709189364,\n",
       "  0.008317637711026709,\n",
       "  0.01,\n",
       "  0.012022644346174132,\n",
       "  0.01445439770745928,\n",
       "  0.017378008287493765,\n",
       "  0.02089296130854041,\n",
       "  0.025118864315095822,\n",
       "  0.030199517204020192,\n",
       "  0.036307805477010104,\n",
       "  0.04365158322401657,\n",
       "  0.05248074602497723,\n",
       "  0.0630957344480193,\n",
       "  0.07585775750291836,\n",
       "  0.09120108393559097,\n",
       "  0.10964781961431852,\n",
       "  0.13182567385564073,\n",
       "  0.15848931924611143,\n",
       "  0.19054607179632482,\n",
       "  0.2290867652767775,\n",
       "  0.2754228703338169,\n",
       "  0.3311311214825908,\n",
       "  0.3981071705534969,\n",
       "  0.47863009232263803,\n",
       "  0.5754399373371567,\n",
       "  0.6918309709189363,\n",
       "  0.8317637711026709,\n",
       "  1.0],\n",
       " 'loss': [0.9017412710671463,\n",
       "  1.2047217494207987,\n",
       "  1.352498960842304,\n",
       "  1.452526394445071,\n",
       "  1.5101220866554739,\n",
       "  1.551343000264441,\n",
       "  1.5847367785986624,\n",
       "  1.6147369951763841,\n",
       "  1.635174958160083,\n",
       "  1.6506257433718585,\n",
       "  1.6623293911518502,\n",
       "  1.6772229790208688,\n",
       "  1.6851084763103068,\n",
       "  1.692105795957769,\n",
       "  1.7009340625422644,\n",
       "  1.7102710750466836,\n",
       "  1.7137879836299486,\n",
       "  1.7180151140203503,\n",
       "  1.7215019020265285,\n",
       "  1.722704016454721,\n",
       "  1.7268003503719516,\n",
       "  1.7309487761525049,\n",
       "  1.735194229356964,\n",
       "  1.7370951841895885,\n",
       "  1.7417683896112381,\n",
       "  1.7443173418945683,\n",
       "  1.7464034699436954,\n",
       "  1.748986611698875,\n",
       "  1.7498119359783153,\n",
       "  1.7516272331195948,\n",
       "  1.7518418011369645,\n",
       "  1.7530557203624155,\n",
       "  1.7545127347125509,\n",
       "  1.7549471645619041,\n",
       "  1.7550541335153673,\n",
       "  1.7563955056383553,\n",
       "  1.7574043523624874,\n",
       "  1.7587432604184787,\n",
       "  1.759358405815695,\n",
       "  1.7623359711367699,\n",
       "  1.7628729664121672,\n",
       "  1.7638985658463089,\n",
       "  1.7627561948872286,\n",
       "  1.7635185841256764,\n",
       "  1.7631147319579652,\n",
       "  1.7636741319512488,\n",
       "  1.7630107196714628,\n",
       "  1.7622444438071023,\n",
       "  1.7634297384627762,\n",
       "  1.7625128500173937,\n",
       "  1.7604491620523683,\n",
       "  1.7569740324927912,\n",
       "  1.753028196135254,\n",
       "  1.7492637571499137,\n",
       "  1.7451478596514496,\n",
       "  1.7393601465670645,\n",
       "  1.7309816192480765,\n",
       "  1.7227518206645351,\n",
       "  1.7113639904403386,\n",
       "  1.6996235316180126,\n",
       "  1.6842923894609632,\n",
       "  1.6677696598731921,\n",
       "  1.6512272863484148,\n",
       "  1.6318014983601352,\n",
       "  1.6167877818195742,\n",
       "  1.5963318885649722,\n",
       "  1.5738476146484346,\n",
       "  1.5585557127673535,\n",
       "  1.5510220942954913,\n",
       "  1.5461104705752546,\n",
       "  1.5421946691167998,\n",
       "  1.5288101708418642,\n",
       "  1.5421301352475683,\n",
       "  1.559223920852295,\n",
       "  1.5784935917760092,\n",
       "  1.5776672460146797,\n",
       "  1.5851320837114644,\n",
       "  1.589196976291415,\n",
       "  1.591654603233535,\n",
       "  1.600983792424753,\n",
       "  1.6074306014603952,\n",
       "  1.610146361734001,\n",
       "  1.6488371482020503,\n",
       "  1.6711514579075049,\n",
       "  1.6926050378280788,\n",
       "  1.7045439171034,\n",
       "  1.75177855273771,\n",
       "  1.781623189150364,\n",
       "  1.7924160038326402,\n",
       "  1.82880814541569,\n",
       "  1.851508639586834,\n",
       "  1.8640810586490646,\n",
       "  1.8634305708953245,\n",
       "  1.8985512612010866,\n",
       "  1.893672483563413,\n",
       "  1.9200985086931481,\n",
       "  1.9253887823741123,\n",
       "  2.0547127844086033,\n",
       "  2.046822578480193,\n",
       "  2.2591952896161347]}"
      ]
     },
     "execution_count": 19,
     "metadata": {},
     "output_type": "execute_result"
    }
   ],
   "source": [
    "lr_finder.results"
   ]
  },
  {
   "cell_type": "code",
   "execution_count": 20,
   "metadata": {},
   "outputs": [
    {
     "data": {
      "image/png": "[encoded data removed]",
      "text/plain": [
       "<Figure size 640x480 with 1 Axes>"
      ]
     },
     "metadata": {},
     "output_type": "display_data"
    }
   ],
   "source": [
    "fig = lr_finder.plot(suggest=True)\n",
    "fig.show()"
   ]
  },
  {
   "cell_type": "code",
   "execution_count": 21,
   "metadata": {},
   "outputs": [
    {
     "data": {
      "text/plain": [
       "0.0019054607179632484"
      ]
     },
     "execution_count": 21,
     "metadata": {},
     "output_type": "execute_result"
    }
   ],
   "source": [
    "lr_finder.suggestion()"
   ]
  },
  {
   "attachments": {},
   "cell_type": "markdown",
   "metadata": {},
   "source": [
    "# efficientnet_b3"
   ]
  },
  {
   "cell_type": "code",
   "execution_count": 22,
   "metadata": {},
   "outputs": [
    {
     "name": "stderr",
     "output_type": "stream",
     "text": [
      "Downloading: \"https://github.com/rwightman/pytorch-image-models/releases/download/v0.1-weights/efficientnet_b3_ra2-cf984f9c.pth\" to /home/ubuntu/.cache/torch/hub/checkpoints/efficientnet_b3_ra2-cf984f9c.pth\n",
      "GPU available: True (cuda), used: True\n",
      "TPU available: False, using: 0 TPU cores\n",
      "IPU available: False, using: 0 IPUs\n",
      "HPU available: False, using: 0 HPUs\n",
      "Missing logger folder: /home/ubuntu/capstone/training_baseline/lightning_logs\n",
      "LOCAL_RANK: 0 - CUDA_VISIBLE_DEVICES: [0]\n"
     ]
    },
    {
     "name": "stdout",
     "output_type": "stream",
     "text": [
      ":: Skipping dataset exists\n"
     ]
    },
    {
     "data": {
      "application/json": {
       "ascii": false,
       "bar_format": null,
       "colour": null,
       "elapsed": 0.010499954223632812,
       "initial": 0,
       "n": 0,
       "ncols": null,
       "nrows": null,
       "postfix": null,
       "prefix": "Finding best initial lr",
       "rate": null,
       "total": 100,
       "unit": "it",
       "unit_divisor": 1000,
       "unit_scale": false
      },
      "application/vnd.jupyter.widget-view+json": {
       "model_id": "b68b1319bb844e5c9f41d15ff0f3a9d4",
       "version_major": 2,
       "version_minor": 0
      },
      "text/plain": [
       "Finding best initial lr:   0%|          | 0/100 [00:00<?, ?it/s]"
      ]
     },
     "metadata": {},
     "output_type": "display_data"
    },
    {
     "name": "stderr",
     "output_type": "stream",
     "text": [
      "`Trainer.fit` stopped: `max_steps=97` reached.\n",
      "LR finder stopped early after 97 steps due to diverging loss.\n",
      "Restoring states from the checkpoint path at /home/ubuntu/capstone/training_baseline/.lr_find_f049370f-99bd-4346-8840-857aa276802a.ckpt\n",
      "Restored all states from the checkpoint file at /home/ubuntu/capstone/training_baseline/.lr_find_f049370f-99bd-4346-8840-857aa276802a.ckpt\n"
     ]
    },
    {
     "data": {
      "image/png": "[encoded data removed]",
      "text/plain": [
       "<Figure size 640x480 with 1 Axes>"
      ]
     },
     "metadata": {},
     "output_type": "display_data"
    }
   ],
   "source": [
    "model = MyModel(\"efficientnet_b3\", 0.01, 6)\n",
    "trainer = Trainer(auto_lr_find=True, max_epochs=5, accelerator='gpu')\n",
    "lr_finder = trainer.tuner.lr_find(model, datamodule)\n",
    "\n",
    "fig = lr_finder.plot(suggest=True)\n",
    "fig.show()"
   ]
  },
  {
   "cell_type": "code",
   "execution_count": 23,
   "metadata": {},
   "outputs": [
    {
     "data": {
      "text/plain": [
       "0.0007585775750291836"
      ]
     },
     "execution_count": 23,
     "metadata": {},
     "output_type": "execute_result"
    }
   ],
   "source": [
    "lr_finder.suggestion()"
   ]
  },
  {
   "attachments": {},
   "cell_type": "markdown",
   "metadata": {},
   "source": [
    "lr range for hpyer param tuning  0.0001 < lr < 0.001"
   ]
  },
  {
   "cell_type": "code",
   "execution_count": null,
   "metadata": {},
   "outputs": [],
   "source": []
  }
 ],
 "metadata": {
  "kernelspec": {
   "display_name": "pytorch",
   "language": "python",
   "name": "python3"
  },
  "language_info": {
   "codemirror_mode": {
    "name": "ipython",
    "version": 3
   },
   "file_extension": ".py",
   "mimetype": "text/x-python",
   "name": "python",
   "nbconvert_exporter": "python",
   "pygments_lexer": "ipython3",
   "version": "3.9.15"
  },
  "orig_nbformat": 4,
  "vscode": {
   "interpreter": {
    "hash": "2d58e898dde0263bc564c6968b04150abacfd33eed9b19aaa8e45c040360e146"
   }
  }
 },
 "nbformat": 4,
 "nbformat_minor": 2
}
